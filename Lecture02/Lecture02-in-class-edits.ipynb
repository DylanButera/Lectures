{
 "cells": [
  {
   "cell_type": "markdown",
   "metadata": {},
   "source": [
    "# Lecture 2\n",
    "* Fair Experiments and Simulations\n",
    "* Relative Frequency\n",
    "* Proabilistic Models"
   ]
  },
  {
   "cell_type": "code",
   "execution_count": null,
   "metadata": {},
   "outputs": [],
   "source": [
    "import numpy as np\n",
    "import matplotlib.pyplot as plt\n",
    "%matplotlib inline\n",
    "plt.style.use('bmh')"
   ]
  },
  {
   "cell_type": "markdown",
   "metadata": {},
   "source": [
    "# Random Experiments"
   ]
  },
  {
   "cell_type": "markdown",
   "metadata": {},
   "source": [
    "What is a random experiment?"
   ]
  },
  {
   "cell_type": "markdown",
   "metadata": {},
   "source": [
    "<div class=\"alert alert-info\" role=\"alert\">\n",
    "  <strong>Random Experiment</strong> \n",
    "    \n",
    "A <strong>random experiment</strong> is an experiment for which the outcome is not completely predictable to an observer based on the observer's knowledge of the system and its inputs.\n",
    "</div>"
   ]
  },
  {
   "cell_type": "markdown",
   "metadata": {},
   "source": [
    "<div class=\"alert alert-info\" role=\"alert\">\n",
    "  <strong>Outcome</strong>\n",
    "    \n",
    "An <strong>outcome</strong> is a non-decomposable result (or output) of a random experiment.\n",
    "</div>"
   ]
  },
  {
   "cell_type": "markdown",
   "metadata": {},
   "source": [
    "**<font color=blue>Examples:</font>**\n",
    "\n",
    "1. Outcomes of flipping a coin: H, T\n",
    "\n",
    "<!-- New line -->\n",
    "\n",
    "2. Outcomes of rolling a die: 1,2,3,4,5,6\n",
    "    * example that is not an outcome: even=2 or 4 or 6 (decomposable)\n",
    "\n",
    "3. Outcomes for temperature: real numbers\n",
    "    * example that is not an outcome:  >=90\n",
    "\n",
    "4. Outcomes for favorite color"
   ]
  },
  {
   "cell_type": "markdown",
   "metadata": {},
   "source": [
    "<div class=\"alert alert-info\" role=\"alert\">\n",
    "  <strong>Sample Space</strong>\n",
    "    \n",
    "The set of all possible outcomes of a random experiment is called the <strong>sample space</strong> (or sometime the <strong>universal set</strong>). The sample space is denoted by $S$ or $\\Omega$.\n",
    "</div>\n",
    "\n",
    "(A **set** is an unordered collection of *unique* items. More information on sets and set operations will be posted to the course website.)"
   ]
  },
  {
   "cell_type": "markdown",
   "metadata": {},
   "source": [
    "## Random Experiment example\n",
    "\n",
    "Let's consider the following experiment:\n",
    "\n",
    "Given a coin:\n",
    "\n",
    "1. What is the sample space for 1 flip of the coin? {H, T}\n",
    "\n",
    "2. What is the sample space look like for 20 flips of the coin? {all possible ($x_1$,$x_2$,$\\dots$,$x_{20}$) where each $x_i$ is in $\\{H,T\\}$}"
   ]
  },
  {
   "cell_type": "markdown",
   "metadata": {},
   "source": [
    "<div class=\"alert alert-info\" role=\"alert\">\n",
    "  <strong>Event</strong>\n",
    "    \n",
    "A set of outcomes $E \\subset S$ (meaning $E$ is a subset of $S$) is called an <strong>event</strong>. We say that an event $E$ occurs if any of the outcomes in $E$ is the result of the experiment.\n",
    "</div>"
   ]
  },
  {
   "cell_type": "markdown",
   "metadata": {},
   "source": [
    "**<font color=blue>Examples:</font>**\n",
    "\n",
    "* A die comes up even $E=\\{2,4,6\\}$\n",
    "* The temperature is less than 40 degrees $E=(-\\infty, 40)$"
   ]
  },
  {
   "cell_type": "markdown",
   "metadata": {},
   "source": [
    "<div class=\"alert alert-info\" role=\"alert\">\n",
    "  <strong>Event Class</strong>\n",
    "    \n",
    "The <strong>event class</strong> is the set of all events to which we assign probability. For our purposes, it is a set of subsets of $S$. \n",
    "</div>\n",
    "\n",
    "If $S$ is finite, then the event class can be taken to be the power set of $S$ (the set of **all** subsets of $S$)."
   ]
  },
  {
   "cell_type": "markdown",
   "metadata": {},
   "source": [
    "**<font color=blue>Examples:</font>**\n",
    "\n",
    "* What is the event class for flipping a coin? { {H}, {T}, {H,T}, null}\n",
    "* What is the event class for rolling a die? {null, {1}, {2},..., {6}, {1,2}, {1,3}, ..., {1,6}, ..., {6,6}, {1,2,3},...}"
   ]
  },
  {
   "cell_type": "markdown",
   "metadata": {},
   "source": [
    "# First Random Experiment and Simulations"
   ]
  },
  {
   "cell_type": "markdown",
   "metadata": {},
   "source": [
    "Consider the following questions:\n",
    "\n",
    "1. **If you flip a coin 20 times, how many times do you think it will come up heads?** about 10 times\n",
    "\n",
    "2. **If you flip the coin 20 times and it comes up heads 6 times, do you think it is a *fair* or *unfair* coin? How *confident* can you be in your answer?**"
   ]
  },
  {
   "cell_type": "markdown",
   "metadata": {},
   "source": [
    "* Can you conduct an experiment to answer these questions? \n",
    "\n",
    "* What problems may you encounter in conducting this experiment? How can we overcome these problems?"
   ]
  },
  {
   "cell_type": "markdown",
   "metadata": {},
   "source": [
    "Answers:\n",
    "1. We expect the answer will be about 10 because the coin will come up heads one-half the time.\n",
    "\n",
    "2. We don't know yet how to answer this."
   ]
  },
  {
   "cell_type": "markdown",
   "metadata": {},
   "source": [
    "If we take a **fair coin** and flip it 20 times and count the number of heads, and then **repeat the experiment many times**, we can **estimate** how often 6 or fewer heads occurs. If it occurs very rarely (say, less than 5% of the time, then we can say that the coin is unlikely to be fair).\n",
    "\n",
    "*Here we use 6 or fewer heads because if 5 heads occurs, that is an even  more extreme outcome than 6 heads occurring, and so we want to count up how often we see an outcome as extreme OR MORE as 6 heads occurring.*"
   ]
  },
  {
   "cell_type": "markdown",
   "metadata": {},
   "source": [
    "* The **problem** is that we may need to repeat the experiment (of flipping the coin 20 times) many times to accurately estimate how often 6 or fewer heads come up. This may require thousands of coin flips!"
   ]
  },
  {
   "cell_type": "markdown",
   "metadata": {},
   "source": [
    "We can overcome this problem by using a computer to flip the coin in a **simulation**. A **computer simulation** is a computer program that models reality and allows us to conduct experiments that:\n",
    "\n",
    "* would require a lot of time to carry out in real life\n",
    "* would require a lot of resources to carry out in real life\n",
    "* would not be possible to repeat in real life (for instance, simulation of the next day's weather or stock market performance)"
   ]
  },
  {
   "cell_type": "markdown",
   "metadata": {},
   "source": [
    "Let's build simulations of our coin flip experiment and learn about some Python libraries:"
   ]
  },
  {
   "cell_type": "code",
   "execution_count": 1,
   "metadata": {},
   "outputs": [],
   "source": [
    "# Simple library for working with random phenomena\n",
    "\n",
    "import random"
   ]
  },
  {
   "cell_type": "code",
   "execution_count": 2,
   "metadata": {},
   "outputs": [],
   "source": [
    "# Create our sample space -- here we use a list instead of a set\n",
    "# as the Python object to represent S\n",
    "\n",
    "faces = ['H', 'T']"
   ]
  },
  {
   "cell_type": "code",
   "execution_count": 3,
   "metadata": {},
   "outputs": [],
   "source": [
    "random.choice?"
   ]
  },
  {
   "cell_type": "code",
   "execution_count": 4,
   "metadata": {},
   "outputs": [
    {
     "data": {
      "text/plain": [
       "'H'"
      ]
     },
     "execution_count": 4,
     "metadata": {},
     "output_type": "execute_result"
    }
   ],
   "source": [
    "random.choice(faces)"
   ]
  },
  {
   "cell_type": "code",
   "execution_count": 5,
   "metadata": {},
   "outputs": [],
   "source": [
    "random.choices?"
   ]
  },
  {
   "cell_type": "code",
   "execution_count": 6,
   "metadata": {},
   "outputs": [
    {
     "data": {
      "text/plain": [
       "['H',\n",
       " 'H',\n",
       " 'T',\n",
       " 'H',\n",
       " 'T',\n",
       " 'T',\n",
       " 'H',\n",
       " 'H',\n",
       " 'T',\n",
       " 'H',\n",
       " 'T',\n",
       " 'T',\n",
       " 'T',\n",
       " 'H',\n",
       " 'H',\n",
       " 'T',\n",
       " 'H',\n",
       " 'H',\n",
       " 'H',\n",
       " 'H']"
      ]
     },
     "execution_count": 6,
     "metadata": {},
     "output_type": "execute_result"
    }
   ],
   "source": [
    "random.choices(faces, k=20)"
   ]
  },
  {
   "cell_type": "code",
   "execution_count": 7,
   "metadata": {},
   "outputs": [],
   "source": [
    "coins = random.choices(faces, k=20)"
   ]
  },
  {
   "cell_type": "code",
   "execution_count": 8,
   "metadata": {},
   "outputs": [
    {
     "data": {
      "text/plain": [
       "12"
      ]
     },
     "execution_count": 8,
     "metadata": {},
     "output_type": "execute_result"
    }
   ],
   "source": [
    "coins.count('H')"
   ]
  },
  {
   "cell_type": "markdown",
   "metadata": {},
   "source": [
    "Running this repeatedly is a pain! Fortunately, the computer can automatically run it for us:"
   ]
  },
  {
   "cell_type": "code",
   "execution_count": 13,
   "metadata": {},
   "outputs": [
    {
     "name": "stdout",
     "output_type": "stream",
     "text": [
      "0 :  7  Heads\n",
      "1 :  13  Heads\n",
      "2 :  7  Heads\n",
      "3 :  10  Heads\n",
      "4 :  15  Heads\n",
      "5 :  11  Heads\n",
      "6 :  10  Heads\n",
      "7 :  15  Heads\n",
      "8 :  10  Heads\n",
      "9 :  9  Heads\n",
      "10 :  11  Heads\n",
      "11 :  8  Heads\n",
      "12 :  6  Heads\n",
      "13 :  12  Heads\n",
      "14 :  8  Heads\n",
      "15 :  9  Heads\n",
      "16 :  14  Heads\n",
      "17 :  12  Heads\n",
      "18 :  10  Heads\n",
      "19 :  11  Heads\n",
      "20 :  13  Heads\n",
      "21 :  7  Heads\n",
      "22 :  5  Heads\n",
      "23 :  13  Heads\n",
      "24 :  8  Heads\n"
     ]
    }
   ],
   "source": [
    "num_sims = 25\n",
    "flips = 20\n",
    "\n",
    "for sim in range(num_sims):\n",
    "    coins = random.choices(faces, k=flips)\n",
    "    num_heads = coins.count('H')\n",
    "    print(sim, ': ', num_heads, ' Heads')"
   ]
  },
  {
   "cell_type": "markdown",
   "metadata": {},
   "source": [
    "Suppose we want to see how often 6 or fewer heads occurs. We can reduce the printing by only printing those extreme events:"
   ]
  },
  {
   "cell_type": "code",
   "execution_count": 14,
   "metadata": {},
   "outputs": [
    {
     "name": "stdout",
     "output_type": "stream",
     "text": [
      "5 :  5  Heads\n",
      "20 :  6  Heads\n"
     ]
    }
   ],
   "source": [
    "num_sims = 25\n",
    "flips = 20\n",
    "\n",
    "for sim in range(num_sims):\n",
    "    coins = random.choices(faces, k=flips)\n",
    "    num_heads = coins.count('H')\n",
    "    if num_heads<=6:\n",
    "        print(sim, ': ', num_heads, ' Heads')"
   ]
  },
  {
   "cell_type": "markdown",
   "metadata": {},
   "source": [
    "* We really don't care about the particular experiment on which those events occur. Instead, we are really just looking at the **frequency** of those events."
   ]
  },
  {
   "cell_type": "markdown",
   "metadata": {},
   "source": [
    "<div class=\"alert alert-info\" role=\"alert\">\n",
    "  <strong>Relative Frequency</strong>\n",
    "    \n",
    "The <strong>relative frequency</strong> of an event is the number of times that an event occurs divided by the number of times the experiment is conducted. \n",
    "</div>"
   ]
  },
  {
   "cell_type": "markdown",
   "metadata": {},
   "source": [
    "Let's modify the experiment to calculate the relative frequency of getting 6 or fewer heads on 20 flips of a fair coin:"
   ]
  },
  {
   "cell_type": "code",
   "execution_count": 15,
   "metadata": {},
   "outputs": [
    {
     "name": "stdout",
     "output_type": "stream",
     "text": [
      "Relative frequency of 6 or fewer heads is  0.00571\n"
     ]
    }
   ],
   "source": [
    "num_sims=100_000\n",
    "flips=20\n",
    "event_count=0\n",
    "\n",
    "for sim in range(num_sims):\n",
    "    coins=random.choices(faces, k=flips)\n",
    "    num_heads = coins.count('H')\n",
    "    if num_heads<=4:\n",
    "        event_count+=1\n",
    "\n",
    "print('Relative frequency of 6 or fewer heads is ', event_count/num_sims)"
   ]
  },
  {
   "cell_type": "markdown",
   "metadata": {},
   "source": [
    "* How does the relative frequency change with the number of experiments simulated?\n",
    "\n",
    "* For 1M simulated experiments, what is the relative frequency of 6 or fewer heads?\n",
    "\n",
    "* What is your conclusion about whether this could be a fair coin?\n",
    "\n",
    "* For 1M simulated experiments, what is the relative frequency of 4 or fewer heads?"
   ]
  },
  {
   "cell_type": "markdown",
   "metadata": {},
   "source": [
    "### Binary Hypothesis Testing\n",
    "\n",
    "This is an example of **binary hypothesis testing**. In this case, we set up two hypothesis:\n",
    "\n",
    "<div class=\"alert alert-info\">\n",
    "    <b>Hypothesis Test</b>\n",
    "    \n",
    "$H_0$: (the *null hypothesis*) is that the observed effect is just caused by randomness in the sampling. It is not real in the underlying system or data. For this exampe, our null hypothesis is that the coin is actually fair.\n",
    "\n",
    "$H_1$: (the *alternative hypothesis*) is that the observed effect is not just caused by random sampling. In this example, the coin is biased toward Tails.\n",
    "</div>"
   ]
  },
  {
   "cell_type": "markdown",
   "metadata": {},
   "source": [
    "In *classical statistics* when conducting hypothesis testing, we say that an effect is **<span style=\"color:blue\">statistically significant</span>** if the probability of observing an effect of that size under the null hypothesis is **smaller than some small threshold value $\\alpha$**. \n",
    "\n",
    "* Typical values of $\\alpha$ are 0.05 or 0.01, but many statisticians argue for even smaller values now. \n",
    "\n",
    "* **The threshold $\\alpha$ to determine statistical significance must always be determined before the experiment is conducted -- otherwise, there is too much temptation to adjust the threshold based on the observed relative frequency.**\n",
    "\n",
    "* The measured relative frequency of the observed effect is called the **<span style=\"color:blue\">$p$-value</span>**.\n",
    "\n",
    "In classical hypothesis testing, we do *not* test the alternative hypothesis directly, nor can we utilize side information that we may already have about the two hypotheses."
   ]
  },
  {
   "cell_type": "markdown",
   "metadata": {},
   "source": [
    "# Probability and Fair Experiment"
   ]
  },
  {
   "cell_type": "markdown",
   "metadata": {},
   "source": [
    "**Probability** is a very useful concept that can be interpreted in a number of ways.\n",
    "\n",
    "The concept of probability is used to assess **uncertainty** of a situation, which can broadly be defined in two ways:\n",
    "* **Frequency of Occurrence**: percentage of successes in a moderately large number of similar situations.\n",
    "* **Subjective Belief**: use of personnal/group/cultural beliefs for given experiences of successful decision making.\n",
    "\n",
    "In order to describe uncertainty in terms of probabilistic models and probabilistic reasoning, we make use of the generic structure of such models and their basic properties, in particular **set theory**."
   ]
  },
  {
   "cell_type": "markdown",
   "metadata": {},
   "source": [
    "<div class=\"alert alert-info\">\n",
    "    <b>Probability</b>\n",
    "    \n",
    "The **probability** of an event is a number between 0 and 1 that quantifies how likely that event is to occur. An event that cannot occur has probability 0, and an event that is sure to occur has probability 1. The probabilities of the outcomes sum to 1.\n",
    "</div>"
   ]
  },
  {
   "cell_type": "markdown",
   "metadata": {},
   "source": [
    "<div class=\"alert alert-info\">\n",
    "    <b>Fair</b>\n",
    "    \n",
    "We say an experiment is **fair** if every outcome is equally likely (they have the same probability).\n",
    "</div>\n",
    "\n",
    "__Proof__: Consider a fair experiment with $N$ outcomes, and let $p_i$ denote the probability of outcome $i$, then\n",
    "\n",
    "\\begin{align*} \\sum_{i=1}^{N} p_i &= 1 \\\\\n",
    "\\sum_{i=1}^{N} p_1 &= 1 \\\\\n",
    "Np_1 &= 1\\\\\n",
    "p_1 &= \\frac 1 N\\\\\n",
    "p_i &= \\frac 1 N\n",
    "\\end{align*}\n",
    "\n",
    "* For example, the probability of getting any number on a fair 6-sided die is 1/6. Let's compare these to the *relative frequencies*.\n",
    "\n",
    "But first let's see how to count the number of occurrences of each outcome:"
   ]
  },
  {
   "cell_type": "code",
   "execution_count": 18,
   "metadata": {},
   "outputs": [
    {
     "name": "stdout",
     "output_type": "stream",
     "text": [
      "[6, 4, 6, 4, 2, 5, 1, 3, 1, 1, 2, 1, 3, 6, 3, 2, 6, 2, 2, 6, 3, 4, 2, 1, 6, 4, 1, 5, 6, 2, 5, 4, 1, 3, 3, 2, 4, 5, 6, 2, 2, 4, 1, 3, 1, 6, 5, 6, 6, 5, 4, 2, 4, 2, 2, 2, 1, 3, 5, 3, 6, 5, 2, 4, 5, 1, 5, 6, 3, 2, 5, 4, 4, 2, 2, 4, 5, 3, 6, 6, 3, 4, 6, 5, 4, 6, 6, 3, 1, 4, 6, 1, 4, 4, 1, 6, 6, 1, 6, 5]\n"
     ]
    }
   ],
   "source": [
    "num_sims = 100\n",
    "values=[]\n",
    "\n",
    "for sim in range(num_sims):\n",
    "    die = random.choice(range(1,7))\n",
    "    values += [die]\n",
    "    \n",
    "print(values)"
   ]
  },
  {
   "cell_type": "code",
   "execution_count": 19,
   "metadata": {},
   "outputs": [
    {
     "name": "stdout",
     "output_type": "stream",
     "text": [
      "[5, 5, 1, 6, 6, 4, 5, 5, 5, 6, 6, 1, 2, 3, 2, 2, 6, 6, 6, 4, 3, 3, 4, 1, 6, 3, 5, 2, 6, 5, 3, 5, 1, 3, 5, 6, 4, 6, 1, 2, 4, 1, 5, 2, 3, 5, 5, 5, 3, 2, 3, 1, 2, 1, 5, 2, 3, 4, 4, 4, 3, 4, 2, 5, 2, 2, 2, 4, 5, 4, 1, 2, 5, 4, 6, 3, 3, 4, 5, 1, 3, 1, 1, 5, 3, 3, 4, 3, 6, 6, 1, 5, 6, 6, 6, 3, 4, 1, 2, 5]\n"
     ]
    }
   ],
   "source": [
    "# Alternative\n",
    "\n",
    "num_sims = 100\n",
    "values = random.choices(range(1,7), k=num_sims)\n",
    "\n",
    "print(values)"
   ]
  },
  {
   "cell_type": "markdown",
   "metadata": {},
   "source": [
    "Let's first keep a counter for each face value and increment that counter whenever we see that face value. Start with a list of 6 zeros:"
   ]
  },
  {
   "cell_type": "code",
   "execution_count": 25,
   "metadata": {},
   "outputs": [
    {
     "data": {
      "text/plain": [
       "[0, 0, 0, 0, 0, 0]"
      ]
     },
     "execution_count": 25,
     "metadata": {},
     "output_type": "execute_result"
    }
   ],
   "source": [
    "counters = [0]*6\n",
    "counters"
   ]
  },
  {
   "cell_type": "code",
   "execution_count": 27,
   "metadata": {},
   "outputs": [
    {
     "data": {
      "text/plain": [
       "[19, 18, 14, 19, 18, 12]"
      ]
     },
     "execution_count": 27,
     "metadata": {},
     "output_type": "execute_result"
    }
   ],
   "source": [
    "counters = [0]*6\n",
    "num_sims=100\n",
    "for sim in range(num_sims):\n",
    "    die = random.choice(range(1,7))\n",
    "    counters[die-1] +=1\n",
    "    \n",
    "counters"
   ]
  },
  {
   "cell_type": "markdown",
   "metadata": {},
   "source": [
    "We can use these counters to make our first plots. Let's start with a simple bar graph:"
   ]
  },
  {
   "cell_type": "code",
   "execution_count": 28,
   "metadata": {},
   "outputs": [
    {
     "data": {
      "text/plain": [
       "[1, 2, 3, 4, 5, 6]"
      ]
     },
     "execution_count": 28,
     "metadata": {},
     "output_type": "execute_result"
    }
   ],
   "source": [
    "vals = list(range(1,7))\n",
    "vals"
   ]
  },
  {
   "cell_type": "code",
   "execution_count": 31,
   "metadata": {},
   "outputs": [
    {
     "data": {
      "image/png": "[encoded data removed]",
      "text/plain": [
       "<Figure size 432x288 with 1 Axes>"
      ]
     },
     "metadata": {
      "needs_background": "light"
     },
     "output_type": "display_data"
    }
   ],
   "source": [
    "import matplotlib.pyplot as plt\n",
    "plt.style.use('bmh')\n",
    "\n",
    "plt.bar(vals, counters);"
   ]
  },
  {
   "cell_type": "code",
   "execution_count": 32,
   "metadata": {},
   "outputs": [
    {
     "data": {
      "image/png": "[encoded data removed]",
      "text/plain": [
       "<Figure size 432x288 with 1 Axes>"
      ]
     },
     "metadata": {
      "needs_background": "light"
     },
     "output_type": "display_data"
    }
   ],
   "source": [
    "plt.bar(vals, counters)\n",
    "plt.xlabel('Die Face')\n",
    "plt.ylabel('Number of Occurrences');"
   ]
  },
  {
   "cell_type": "markdown",
   "metadata": {},
   "source": [
    "Putting it all together, we have:"
   ]
  },
  {
   "cell_type": "code",
   "execution_count": 35,
   "metadata": {},
   "outputs": [
    {
     "data": {
      "image/png": "[encoded data removed]",
      "text/plain": [
       "<Figure size 432x288 with 1 Axes>"
      ]
     },
     "metadata": {
      "needs_background": "light"
     },
     "output_type": "display_data"
    }
   ],
   "source": [
    "counters = [0]*6\n",
    "num_sims=100\n",
    "for sim in range(num_sims):\n",
    "    die = random.choice(range(1,7))\n",
    "    counters[die-1] +=1\n",
    "    \n",
    "plt.bar(vals, counters)\n",
    "plt.xlabel('Die Face')\n",
    "plt.ylabel('Number of Occurrences');"
   ]
  },
  {
   "cell_type": "markdown",
   "metadata": {},
   "source": [
    "Here is a more elegant approach (using ```numpy```) if we just want the counts of the outcomes:"
   ]
  },
  {
   "cell_type": "code",
   "execution_count": 36,
   "metadata": {},
   "outputs": [
    {
     "name": "stdout",
     "output_type": "stream",
     "text": [
      "[2, 5, 3, 3, 2, 6, 1, 1, 1, 2, 3, 6, 6, 3, 6, 3, 6, 5, 2, 5, 2, 4, 1, 1, 1, 1, 1, 3, 2, 4, 2, 1, 1, 6, 1, 1, 4, 1, 2, 5, 2, 6, 4, 1, 3, 6, 1, 4, 3, 4, 4, 1, 3, 5, 4, 3, 6, 5, 6, 5, 4, 1, 2, 1, 5, 2, 2, 3, 5, 4, 6, 4, 3, 2, 1, 1, 1, 3, 5, 4, 2, 2, 4, 1, 1, 1, 5, 1, 1, 5, 2, 1, 5, 5, 1, 2, 6, 5, 3, 4]\n"
     ]
    }
   ],
   "source": [
    "import numpy as np\n",
    "\n",
    "num_sims=100\n",
    "outcomes=[]\n",
    "for sim in range(num_sims):\n",
    "    die=random.choice(range(1,7))\n",
    "    outcomes+=[die]\n",
    "    \n",
    "print(outcomes)"
   ]
  },
  {
   "cell_type": "code",
   "execution_count": 37,
   "metadata": {},
   "outputs": [
    {
     "data": {
      "text/plain": [
       "(array([1, 2, 3, 4, 5, 6]), array([28, 17, 14, 14, 15, 12], dtype=int64))"
      ]
     },
     "execution_count": 37,
     "metadata": {},
     "output_type": "execute_result"
    }
   ],
   "source": [
    "np.unique(outcomes, return_counts=True)"
   ]
  },
  {
   "cell_type": "markdown",
   "metadata": {},
   "source": [
    "Then to get the **relative frequencies** is easy:"
   ]
  },
  {
   "cell_type": "code",
   "execution_count": 39,
   "metadata": {},
   "outputs": [
    {
     "name": "stdout",
     "output_type": "stream",
     "text": [
      "1 0.11\n",
      "2 0.25\n",
      "3 0.18\n",
      "4 0.18\n",
      "5 0.16\n",
      "6 0.12\n"
     ]
    }
   ],
   "source": [
    "num_sims=100\n",
    "outcomes=[]\n",
    "for sim in range(num_sims):\n",
    "    die=random.choice(range(1,7))\n",
    "    outcomes+=[die]\n",
    "\n",
    "vals, counts = np.unique(outcomes, return_counts=True)\n",
    "for i in range(len(vals)):\n",
    "    print(vals[i], counts[i]/num_sims)"
   ]
  },
  {
   "cell_type": "code",
   "execution_count": 40,
   "metadata": {
    "scrolled": true
   },
   "outputs": [
    {
     "data": {
      "image/png": "[encoded data removed]",
      "text/plain": [
       "<Figure size 432x288 with 1 Axes>"
      ]
     },
     "metadata": {
      "needs_background": "light"
     },
     "output_type": "display_data"
    }
   ],
   "source": [
    "plt.bar(vals, counts/num_sims)\n",
    "plt.xlabel('Die Face')\n",
    "plt.ylabel('Relative Frequency');"
   ]
  },
  {
   "cell_type": "markdown",
   "metadata": {},
   "source": [
    "* How does the relative frequency of each outcome change as we increase/decrease the number of simulations?\n",
    "\n",
    "* What is your conclusion in terms of amount of data needed?\n",
    "\n",
    "* Does the relative frequency *converge* to some value as the number of simulations increases?"
   ]
  },
  {
   "cell_type": "markdown",
   "metadata": {},
   "source": [
    "___\n",
    "**<font color=blue>Example 2:</font>** Consider the experiment where we flip a fair coin 20 times and we count how many times Heads occurred. Compute the relative frequency of each outcome."
   ]
  },
  {
   "cell_type": "code",
   "execution_count": 9,
   "metadata": {},
   "outputs": [
    {
     "data": {
      "image/png": "[encoded data removed]",
      "text/plain": [
       "<Figure size 432x288 with 1 Axes>"
      ]
     },
     "metadata": {
      "needs_background": "light"
     },
     "output_type": "display_data"
    }
   ],
   "source": [
    "faces=['H','T']\n",
    "num_sims=100_000\n",
    "flips=20\n",
    "counts=[]\n",
    "\n",
    "for sim in range(num_sims):\n",
    "    coins=random.choices(faces, k=flips) # the output coins is a list\n",
    "    num_heads=coins.count('H') #count() is a method for lists\n",
    "    counts+=[num_heads]\n",
    "    \n",
    "vals, unique_counts = np.unique(counts, return_counts=True)\n",
    "plt.bar(vals, unique_counts/num_sims)\n",
    "plt.xlabel('Number of Heads')\n",
    "plt.ylabel('Relative Frequency');"
   ]
  },
  {
   "cell_type": "code",
   "execution_count": null,
   "metadata": {},
   "outputs": [],
   "source": []
  },
  {
   "cell_type": "markdown",
   "metadata": {},
   "source": [
    "* So why are the outcomes of this experiment not equally likely?"
   ]
  },
  {
   "cell_type": "markdown",
   "metadata": {},
   "source": [
    "This experiment is a special case of a sequential probabilist model, also called **combined experiment**. Before we characterize it, we need to:\n",
    "1. relate relative frequency with probability, and\n",
    "2. define probabilistic models"
   ]
  },
  {
   "cell_type": "markdown",
   "metadata": {},
   "source": [
    "# Probability as a Measure of Frequency of Occurrence"
   ]
  },
  {
   "cell_type": "markdown",
   "metadata": {},
   "source": [
    "In the experiments we have conducted, the relative frequencies converge to some constant values when the number of simulations increases.\n",
    "\n",
    "* The experiments we have conducted are **fair** or are **combined experiments** with fair sub-experiments, for which we (now) know how to calculate the probabilities:\n",
    "\n",
    "<h3 align=\"center\">the relative frequencies converge to the probabilities</h3>\n",
    "    \n",
    "* In an experiment, if the relative frequencies converge, we say the experiment possesses **statistical regularity** and consider those here."
   ]
  },
  {
   "cell_type": "markdown",
   "metadata": {},
   "source": [
    "Consider a random experiment that has $K$ possible outcomes, where $K<\\infty$.\n",
    "\n",
    "Let $N_k(n) \\equiv \\text{the number of times the outcome is }k$ and let the relative frequency of outcome $k$ be\n",
    "\n",
    "\\begin{align*}\n",
    "r_k(n) = \\frac{N_k(n)}{n}\n",
    "\\end{align*}"
   ]
  },
  {
   "cell_type": "markdown",
   "metadata": {},
   "source": [
    "If the relative frequencies converge, i.e., $\\lim_{n\\rightarrow\\infty}r_k(n)$ is a constant for each $k$, then we say that the experiment possesses statistical regularity and that the relative frequencies converge to the (true) probabilities."
   ]
  },
  {
   "cell_type": "markdown",
   "metadata": {},
   "source": [
    "<div class=\"alert alert-info\">\n",
    "    <b>Probability as a Measure of Frequency of Occurrence</b>\n",
    "    \n",
    "For experiments with statistical regularity,\n",
    "\\begin{align*}\n",
    "\\lim_{n\\rightarrow\\infty} r_k(n) = p_k\n",
    "\\end{align*}\n",
    "is called the **probability of outcome $k$**.\n",
    "</div>"
   ]
  },
  {
   "cell_type": "markdown",
   "metadata": {},
   "source": [
    "### Properties of Relative Frequency"
   ]
  },
  {
   "cell_type": "markdown",
   "metadata": {},
   "source": [
    "Note that \n",
    "\n",
    "\\begin{align*}\n",
    "0 \\leq N_k(n) \\leq n, \\forall k\n",
    "\\end{align*}\n",
    "\n",
    "because $N_k(n)$ is just the \\# of times outcome $k$ occurs in $n$ trials.\n",
    "\n",
    "Dividing by $n$ yields:\n",
    "\n",
    "\\begin{align*}\n",
    "0 \\leq \\frac{N_k(n)}{n} = r_k(n) \\leq 1, \\forall k=1,\\dots,K\n",
    "\\end{align*}"
   ]
  },
  {
   "cell_type": "markdown",
   "metadata": {},
   "source": [
    "If $1,2,\\dots,K$ are all of the possible outcomes, then\n",
    "\n",
    "\\begin{align*}\n",
    "\\sum_{k=1}^K N_k(n) = n\n",
    "\\end{align*}\n",
    "\n",
    "Again, dividing by $n$ yields:\n",
    "\n",
    "\\begin{align*}\n",
    "\\sum_{k=1}^K r_k(n) = 1\n",
    "\\end{align*}"
   ]
  },
  {
   "cell_type": "markdown",
   "metadata": {},
   "source": [
    "For example: Consider rolling a 6-sided die and let the **event** $E\\equiv\\text{even number occurs}$.\n",
    "\n",
    "* *What can we say about the number of times $E$ is observed in $n$ trials?*\n",
    "\n",
    "\\begin{align*}\n",
    "N_E(n) = N_2(n) + N_4(n) + N_6(n)\n",
    "\\end{align*}"
   ]
  },
  {
   "cell_type": "markdown",
   "metadata": {},
   "source": [
    "* *What have we assumed in developing this equations?*\n",
    "\n",
    "That the outcomes 2, 4 and 6 are mutually exclusive."
   ]
  },
  {
   "cell_type": "markdown",
   "metadata": {},
   "source": [
    "Then, dividing the $N_E(n)$ by $n$,\n",
    "\n",
    "\\begin{align*} r_E(n) = \\frac{N_E(n)}{n} &= \\frac{N_2(n) + N_4(n) + N_6(n)}{n} \\\\\n",
    "&= r_2(n) + r_4(n) + r_6(n)\n",
    "\\end{align*}"
   ]
  },
  {
   "cell_type": "markdown",
   "metadata": {},
   "source": [
    "<div class=\"alert alert-info\">\n",
    "    <b>Mutually Exclusive Events</b>\n",
    "    \n",
    "If $A$ and $B$ are two mutually exclusive (m.e.) events, and $C$ is the event that either $A$ or $B$ occurs, i.e., $C= A\\cup B$, then\n",
    "\n",
    "$$r_C(n) = r_A(n) + r_B(n)$$\n",
    "</div>"
   ]
  },
  {
   "cell_type": "markdown",
   "metadata": {},
   "source": [
    "* *What are some problems with defining probabilities as the limits of relative frequencies?*\n",
    "\n",
    "    1. It is not clear when and in what sense the limit exists.\n",
    "    2. It is not possible to perform an experiment an infinite number of times, so the probabilities can never be known exactly.\n",
    "    3. We cannot use this definition if the experiment cannot be repeated."
   ]
  },
  {
   "cell_type": "markdown",
   "metadata": {},
   "source": [
    "We need a <font color=blue>mathematical model of probability</font> that is not based on a particular application or interpretation. However, any such model should:\n",
    "1. be useful for solving real problems\n",
    "2. agree with out interpretation of probability as relative frequency\n",
    "3. agree with out intuition (<font color=blue>where appropriate!</font>)"
   ]
  },
  {
   "cell_type": "markdown",
   "metadata": {},
   "source": [
    "# Probabilistic Models"
   ]
  },
  {
   "cell_type": "markdown",
   "metadata": {},
   "source": [
    "We define a **probabilistic model** as a mathematical construction containing three elements. We say that a probability model is a *triple*: $(\\Omega,\\mathcal{F}, P)$."
   ]
  },
  {
   "cell_type": "markdown",
   "metadata": {},
   "source": [
    "We have already defined the **sample space** $\\Omega$ and the event class $\\mathcal{F}$. We need to specify $P$, the probability measure:\n",
    "\n",
    "<div class=\"alert alert-info\">\n",
    "The <strong>probability measure</strong>, denoted by $P$, is a numerically-valued set function that maps all members of $\\mathcal{F}$ onto $\\mathbb{R}$.\n",
    "</div>"
   ]
  },
  {
   "cell_type": "markdown",
   "metadata": {},
   "source": [
    "Gathering this info together, we have:\n",
    "\n",
    "<div class=\"alert alert-info\">\n",
    "    <b>Elements of a Probabilistic Model: $(\\Omega, \\mathcal{F}, P)$</b>\n",
    "    \n",
    "* The **sample space** $\\Omega$, which is the set of all possible **outcomes** of an experiment. Different elements of the sample space should be distinct and *mutually exclusive*\n",
    "\n",
    "* The **event** $\\mathcal{F}$ a subset of the sample space, that is, a collection of possible **outcomes**\n",
    "\n",
    "* The **probability measure** $P$ is a numerically-valued set function that maps all members of $\\mathcal{F}$ onto $\\mathbb{R}$, that is, $P: \\mathcal{F} \\longrightarrow \\mathbb{R}$.\n",
    "</div>"
   ]
  },
  {
   "cell_type": "markdown",
   "metadata": {},
   "source": [
    "Consider an experiment with equally likely outcomes $S$, where $|S|=N$ (that is, the *cardinality* of $S$ is $N$).\n",
    "\n",
    "If $E \\subset S$ is an event that consists of $K$ equally likely outcomes\n",
    "(i.e,. $E=\\{ o_1, o_2, \\ldots, o_K\\}$\n",
    "\n",
    "\\begin{align*}\n",
    "P(E) &= \\sum_{j=1}^{K} P(o_j) \\\\\n",
    "&= \\sum_{j=1}^{|E|} \\frac{1}{|S|}  \\\\\n",
    "&= \\frac{|E|}{|S|} \\\\\n",
    "&= \\frac{K}{N}\n",
    "\\end{align*}"
   ]
  },
  {
   "cell_type": "markdown",
   "metadata": {},
   "source": [
    "___\n",
    "**<font color=blue>Example 3:</font>** What is the probability of getting a 1 or 2 when rolling a fair 6-sided die?\n",
    "\n",
    "% $\\Omega=\\{1,2,\\ldots, 6\\}$, $E=\\{1,2\\}$ and $P(E)=\\frac{|E|}{|S|}=\\frac{2}{6}=\\frac{1}{3}$\n",
    "\n",
    "___"
   ]
  },
  {
   "cell_type": "markdown",
   "metadata": {},
   "source": [
    "## Axioms of Probability"
   ]
  },
  {
   "cell_type": "markdown",
   "metadata": {},
   "source": [
    "**Axioms:** we specify a minimal set of rules that $P$ must obey."
   ]
  },
  {
   "cell_type": "markdown",
   "metadata": {},
   "source": [
    "1. $\\forall E\\in\\mathcal{F}, P(E)\\geq 0$"
   ]
  },
  {
   "cell_type": "markdown",
   "metadata": {},
   "source": [
    "2. $P(\\Omega)=1$"
   ]
  },
  {
   "cell_type": "markdown",
   "metadata": {},
   "source": [
    "3. **Additivity axiom.** $\\forall E, F \\in \\mathcal{F}, P(E\\cup F) = P(E) + P(F)$ if $E$ and $F$ are mutually exclusive, that is, $E\\cap F =\\emptyset$"
   ]
  },
  {
   "cell_type": "markdown",
   "metadata": {},
   "source": [
    "4. **Additivity axiom.** If $A_1,A_2,\\dots$ is a sequence of events such that $A_i\\cap A_j = \\emptyset, \\forall i\\neq j$, then\n",
    "\n",
    "\\begin{align*}\n",
    "P\\left(\\bigcup_{k=1}^{\\infty} A_k\\right) = \\sum_{k=1}^{\\infty} P(A_k)\n",
    "\\end{align*}"
   ]
  },
  {
   "cell_type": "markdown",
   "metadata": {},
   "source": [
    "We can use Axioms 1-3 to deal with finite sample spaces. However, Axiom 4 is required instead of Axiom 3 for infinite sample spaces.\n",
    "\n",
    "* Axiom 3 is a special case of Axiom 4.\n",
    "* The unions and summations in Axiom 4 are over countable index sets only."
   ]
  },
  {
   "cell_type": "markdown",
   "metadata": {},
   "source": [
    "## Corollaries"
   ]
  },
  {
   "cell_type": "markdown",
   "metadata": {},
   "source": [
    "Let $A\\in\\mathcal{F}$ and $B\\in\\mathcal{F}$ be two events. Then the following properties of $P$ can be derived from the axioms and the mathematical structure of $\\mathcal{F}$:\n",
    "\n",
    "(let's use the virtual whiteboard to prove these corollaries)"
   ]
  },
  {
   "cell_type": "markdown",
   "metadata": {},
   "source": [
    "1. $P(A^c) = 1 - P(A)$\n",
    "\n",
    "Proof: By axiom 1, $P(\\Omega)=1$. Note that $A\\cap\\overline{A} = \\emptyset$ (m.e.) and $A\\cup \\overline{A} = \\Omega$. Then $P(A\\cup \\overline{A})=1$. By axiom 3 this is equal to $P(A) + P(\\overline{A}) = 1 \\Rightarrow P(\\overline{A})=1-P(A)$."
   ]
  },
  {
   "cell_type": "markdown",
   "metadata": {},
   "source": [
    "2. $P(A) \\leq 1$\n",
    "\n",
    "Proof: $P(A) = 1-P(\\overline{A})$, where $P(\\overline{A})\\geq 0$ by axiom 1."
   ]
  },
  {
   "cell_type": "markdown",
   "metadata": {},
   "source": [
    "3. $P(\\emptyset) = 0 $\n",
    "\n",
    "Proof: $\\overline{\\Omega}=\\emptyset \\iff \\Omega = \\overline{\\emptyset}$. $P(\\emptyset) = 1-P(\\overline{\\emptyset}) = 1-P(\\Omega) = 1 - 1 = 0$"
   ]
  },
  {
   "cell_type": "markdown",
   "metadata": {},
   "source": [
    "4. If $A_1,A_2,\\dots,A_n$ are pairwise mutually exclusive, then $P\\left(\\bigcup_{k=1}^n A_k\\right) = \\sum_{k=1}^n P(A_k)$. Proof is by induction."
   ]
  },
  {
   "cell_type": "markdown",
   "metadata": {},
   "source": [
    "5. $P(A\\cup B) = P(A) + P(B) - P(A\\cap B)$\n",
    "    * **Exercise:** A fair six-sided die is rolled twice. What is the probability of observing either a 1 or a 2 on the top face on either roll? \n",
    "    \n",
    "    Let $E_i = $1 or 2 on roll. $P(E_1\\cup E_2) = P(E_1)+P(E_2)-P(E_1\\cap E_2) = \\frac{1}{3} + \\frac{1}{3} - \\frac{4}{36} = \\frac{5}{9}$\n",
    "    \n",
    "    ($(1,1)$, $(1,2)$, $(2,1)$, $(2,2)$)"
   ]
  },
  {
   "cell_type": "markdown",
   "metadata": {},
   "source": [
    "6. $P\\left(\\bigcup_{k=1}^n A_k\\right) = \\sum_{k=1}^n P(A_j) - \\sum_{j<k} P(A_j\\cap A_k) + \\dots + (-1)^{(n+1)}P(A_1\\cap A_2 \\cap \\dots\\cap A_n)$\n",
    "\n",
    "* *Add all single events, subtract off all intersections of pairs of events, add in all intersections of 3 events, ...* Proof is by induction."
   ]
  },
  {
   "cell_type": "markdown",
   "metadata": {},
   "source": [
    "7. If $A\\subset B$, then $P(A)\\leq P(B)$\n",
    "\n",
    "Proof: $A$ and $ (B\\cap \\overline{A})$ are m.e. and $B=A \\cup (B\\cap \\overline{A})$. Then $P(B) = P(A) + P(B\\cap\\overline{A})$, where $P(B\\cap\\overline{A})\\geq 0$ by axiom 1."
   ]
  },
  {
   "cell_type": "markdown",
   "metadata": {},
   "source": [
    "___"
   ]
  }
 ],
 "metadata": {
  "kernelspec": {
   "display_name": "Python 3 (ipykernel)",
   "language": "python",
   "name": "python3"
  },
  "language_info": {
   "codemirror_mode": {
    "name": "ipython",
    "version": 3
   },
   "file_extension": ".py",
   "mimetype": "text/x-python",
   "name": "python",
   "nbconvert_exporter": "python",
   "pygments_lexer": "ipython3",
   "version": "3.8.13"
  },
  "latex_envs": {
   "LaTeX_envs_menu_present": true,
   "autoclose": false,
   "autocomplete": true,
   "bibliofile": "biblio.bib",
   "cite_by": "apalike",
   "current_citInitial": 1,
   "eqLabelWithNumbers": true,
   "eqNumInitial": 1,
   "hotkeys": {
    "equation": "Ctrl-E",
    "itemize": "Ctrl-I"
   },
   "labels_anchors": false,
   "latex_user_defs": false,
   "report_style_numbering": false,
   "user_envs_cfg": false
  },
  "varInspector": {
   "cols": {
    "lenName": 16,
    "lenType": 16,
    "lenVar": 40
   },
   "kernels_config": {
    "python": {
     "delete_cmd_postfix": "",
     "delete_cmd_prefix": "del ",
     "library": "var_list.py",
     "varRefreshCmd": "print(var_dic_list())"
    },
    "r": {
     "delete_cmd_postfix": ") ",
     "delete_cmd_prefix": "rm(",
     "library": "var_list.r",
     "varRefreshCmd": "cat(var_dic_list()) "
    }
   },
   "oldHeight": 413,
   "position": {
    "height": "435px",
    "left": "1541px",
    "right": "20px",
    "top": "115px",
    "width": "350px"
   },
   "types_to_exclude": [
    "module",
    "function",
    "builtin_function_or_method",
    "instance",
    "_Feature"
   ],
   "varInspector_section_display": "block",
   "window_display": false
  }
 },
 "nbformat": 4,
 "nbformat_minor": 4
}
